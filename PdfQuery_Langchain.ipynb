{
  "nbformat": 4,
  "nbformat_minor": 0,
  "metadata": {
    "colab": {
      "provenance": []
    },
    "kernelspec": {
      "name": "python3",
      "display_name": "Python 3"
    },
    "language_info": {
      "name": "python"
    }
  },
  "cells": [
    {
      "cell_type": "code",
      "source": [
        "!pip install pyarrow==14\n"
      ],
      "metadata": {
        "colab": {
          "base_uri": "https://localhost:8080/"
        },
        "id": "dNOdqKRL4bzy",
        "outputId": "fc40d378-bf66-4144-9148-5e844ea424ce"
      },
      "execution_count": null,
      "outputs": [
        {
          "output_type": "stream",
          "name": "stdout",
          "text": [
            "Requirement already satisfied: pyarrow==14 in /usr/local/lib/python3.10/dist-packages (14.0.0)\n",
            "Requirement already satisfied: numpy>=1.16.6 in /usr/local/lib/python3.10/dist-packages (from pyarrow==14) (1.25.2)\n"
          ]
        }
      ]
    },
    {
      "cell_type": "code",
      "source": [
        "!pip install -q cassio datasets langchain openai tiktoken"
      ],
      "metadata": {
        "id": "WU9tYqkE5qHF",
        "colab": {
          "base_uri": "https://localhost:8080/"
        },
        "outputId": "93917ecb-206c-4857-c10d-2534f3e0df5b"
      },
      "execution_count": null,
      "outputs": [
        {
          "output_type": "stream",
          "name": "stdout",
          "text": [
            "\u001b[2K     \u001b[90m━━━━━━━━━━━━━━━━━━━━━━━━━━━━━━━━━━━━━━━━\u001b[0m \u001b[32m41.3/41.3 kB\u001b[0m \u001b[31m1.1 MB/s\u001b[0m eta \u001b[36m0:00:00\u001b[0m\n",
            "\u001b[2K     \u001b[90m━━━━━━━━━━━━━━━━━━━━━━━━━━━━━━━━━━━━━━━━\u001b[0m \u001b[32m536.7/536.7 kB\u001b[0m \u001b[31m10.7 MB/s\u001b[0m eta \u001b[36m0:00:00\u001b[0m\n",
            "\u001b[2K     \u001b[90m━━━━━━━━━━━━━━━━━━━━━━━━━━━━━━━━━━━━━━━━\u001b[0m \u001b[32m816.1/816.1 kB\u001b[0m \u001b[31m39.8 MB/s\u001b[0m eta \u001b[36m0:00:00\u001b[0m\n",
            "\u001b[2K     \u001b[90m━━━━━━━━━━━━━━━━━━━━━━━━━━━━━━━━━━━━━━━━\u001b[0m \u001b[32m226.7/226.7 kB\u001b[0m \u001b[31m22.9 MB/s\u001b[0m eta \u001b[36m0:00:00\u001b[0m\n",
            "\u001b[2K     \u001b[90m━━━━━━━━━━━━━━━━━━━━━━━━━━━━━━━━━━━━━━━━\u001b[0m \u001b[32m1.8/1.8 MB\u001b[0m \u001b[31m58.3 MB/s\u001b[0m eta \u001b[36m0:00:00\u001b[0m\n",
            "\u001b[2K     \u001b[90m━━━━━━━━━━━━━━━━━━━━━━━━━━━━━━━━━━━━━━━━\u001b[0m \u001b[32m18.8/18.8 MB\u001b[0m \u001b[31m56.0 MB/s\u001b[0m eta \u001b[36m0:00:00\u001b[0m\n",
            "\u001b[2K     \u001b[90m━━━━━━━━━━━━━━━━━━━━━━━━━━━━━━━━━━━━━━━━\u001b[0m \u001b[32m116.3/116.3 kB\u001b[0m \u001b[31m14.2 MB/s\u001b[0m eta \u001b[36m0:00:00\u001b[0m\n",
            "\u001b[2K     \u001b[90m━━━━━━━━━━━━━━━━━━━━━━━━━━━━━━━━━━━━━━━━\u001b[0m \u001b[32m134.8/134.8 kB\u001b[0m \u001b[31m16.1 MB/s\u001b[0m eta \u001b[36m0:00:00\u001b[0m\n",
            "\u001b[2K     \u001b[90m━━━━━━━━━━━━━━━━━━━━━━━━━━━━━━━━━━━━━━━━\u001b[0m \u001b[32m1.7/1.7 MB\u001b[0m \u001b[31m73.7 MB/s\u001b[0m eta \u001b[36m0:00:00\u001b[0m\n",
            "\u001b[2K     \u001b[90m━━━━━━━━━━━━━━━━━━━━━━━━━━━━━━━━━━━━━━━━\u001b[0m \u001b[32m242.1/242.1 kB\u001b[0m \u001b[31m26.9 MB/s\u001b[0m eta \u001b[36m0:00:00\u001b[0m\n",
            "\u001b[2K     \u001b[90m━━━━━━━━━━━━━━━━━━━━━━━━━━━━━━━━━━━━━━━━\u001b[0m \u001b[32m61.0/61.0 kB\u001b[0m \u001b[31m7.5 MB/s\u001b[0m eta \u001b[36m0:00:00\u001b[0m\n",
            "\u001b[2K     \u001b[90m━━━━━━━━━━━━━━━━━━━━━━━━━━━━━━━━━━━━━━━━\u001b[0m \u001b[32m75.9/75.9 kB\u001b[0m \u001b[31m9.2 MB/s\u001b[0m eta \u001b[36m0:00:00\u001b[0m\n",
            "\u001b[2K     \u001b[90m━━━━━━━━━━━━━━━━━━━━━━━━━━━━━━━━━━━━━━━━\u001b[0m \u001b[32m49.4/49.4 kB\u001b[0m \u001b[31m6.2 MB/s\u001b[0m eta \u001b[36m0:00:00\u001b[0m\n",
            "\u001b[2K     \u001b[90m━━━━━━━━━━━━━━━━━━━━━━━━━━━━━━━━━━━━━━━━\u001b[0m \u001b[32m77.0/77.0 kB\u001b[0m \u001b[31m10.0 MB/s\u001b[0m eta \u001b[36m0:00:00\u001b[0m\n",
            "\u001b[2K     \u001b[90m━━━━━━━━━━━━━━━━━━━━━━━━━━━━━━━━━━━━━━━━\u001b[0m \u001b[32m58.3/58.3 kB\u001b[0m \u001b[31m7.4 MB/s\u001b[0m eta \u001b[36m0:00:00\u001b[0m\n",
            "\u001b[?25h"
          ]
        }
      ]
    },
    {
      "cell_type": "code",
      "source": [
        "# Langchain components tp use\n",
        "from langchain.vectorstores.cassandra import Cassandra\n",
        "from langchain.indexes.vectorstore import VectorStoreIndexWrapper\n",
        "from langchain.llms import OpenAI\n",
        "from langchain.embeddings import OpenAIEmbeddings\n",
        "\n",
        "# Support For Dataset retrieval with hugging face\n",
        "from datasets import load_dataset\n",
        "\n",
        "#With Cassio, the engine powering the Astra DB integration in Langchain,\n",
        "# you will also initialize the DB connection:\n",
        "import cassio"
      ],
      "metadata": {
        "id": "O9c989S553mT"
      },
      "execution_count": null,
      "outputs": []
    },
    {
      "cell_type": "code",
      "source": [
        "!pip install PyPDF2"
      ],
      "metadata": {
        "colab": {
          "base_uri": "https://localhost:8080/"
        },
        "id": "-rYwB3aJ7H7A",
        "outputId": "d3e9d2d5-bca8-4d03-8e41-a9dc552f8a8d"
      },
      "execution_count": null,
      "outputs": [
        {
          "output_type": "stream",
          "name": "stdout",
          "text": [
            "Collecting PyPDF2\n",
            "  Downloading pypdf2-3.0.1-py3-none-any.whl (232 kB)\n",
            "\u001b[?25l     \u001b[90m━━━━━━━━━━━━━━━━━━━━━━━━━━━━━━━━━━━━━━━━\u001b[0m \u001b[32m0.0/232.6 kB\u001b[0m \u001b[31m?\u001b[0m eta \u001b[36m-:--:--\u001b[0m\r\u001b[2K     \u001b[91m━━━━━━━━━━━━━━━━━━━\u001b[0m\u001b[90m╺\u001b[0m\u001b[90m━━━━━━━━━━━━━━━━━━━━\u001b[0m \u001b[32m112.6/232.6 kB\u001b[0m \u001b[31m3.3 MB/s\u001b[0m eta \u001b[36m0:00:01\u001b[0m\r\u001b[2K     \u001b[90m━━━━━━━━━━━━━━━━━━━━━━━━━━━━━━━━━━━━━━━━\u001b[0m \u001b[32m232.6/232.6 kB\u001b[0m \u001b[31m4.4 MB/s\u001b[0m eta \u001b[36m0:00:00\u001b[0m\n",
            "\u001b[?25hInstalling collected packages: PyPDF2\n",
            "Successfully installed PyPDF2-3.0.1\n"
          ]
        }
      ]
    },
    {
      "cell_type": "code",
      "source": [
        "from PyPDF2 import PdfReader"
      ],
      "metadata": {
        "id": "0SV-G6ob7MXo"
      },
      "execution_count": null,
      "outputs": []
    },
    {
      "cell_type": "code",
      "source": [
        "from google.colab import userdata\n",
        "ASTRA_DB_APPLICATION_TOKEN = userdata.get('ASTRA_DB_APPLICATION_TOKEN')\n",
        "ASTRA_DB_ID = userdata.get('ASTRA_DB_ID')\n",
        "\n",
        "OPENAI_API_KEY =userdata.get('OPENAI_API_KEY')\n"
      ],
      "metadata": {
        "id": "NvUgnVL07YEu"
      },
      "execution_count": 47,
      "outputs": []
    },
    {
      "cell_type": "code",
      "source": [
        "# provide the path of pdf file\n",
        "\n",
        "pdfreader = PdfReader('/content/spice.pdf')"
      ],
      "metadata": {
        "id": "6U14M2c_8cBi"
      },
      "execution_count": 48,
      "outputs": []
    },
    {
      "cell_type": "code",
      "source": [
        "from typing_extensions import Concatenate\n",
        "\n",
        "raw_text = ''\n",
        "for i, page in enumerate(pdfreader.pages):\n",
        "  content = page.extract_text()\n",
        "  if content:\n",
        "    raw_text += content"
      ],
      "metadata": {
        "id": "S3vgB3cH8yYG"
      },
      "execution_count": 49,
      "outputs": []
    },
    {
      "cell_type": "code",
      "source": [
        "raw_text"
      ],
      "metadata": {
        "colab": {
          "base_uri": "https://localhost:8080/",
          "height": 123
        },
        "id": "youPNHnt9PnZ",
        "outputId": "6cc035ef-d396-430b-9efc-438cb9289d23"
      },
      "execution_count": 50,
      "outputs": [
        {
          "output_type": "execute_result",
          "data": {
            "text/plain": [
              "'Spices\\nSpices at a central market in Agadir,\\nMorocco\\nA group of Indian herbs and spices in\\nbowls\\nSpices of Saúde flea market, São\\nPaulo, BrazilSpice\\nA spice is a seed, fruit, root, bark, or other plant substance\\nprimarily used for flavoring or coloring food. Spices are\\ndistinguished from herbs, which are the leaves, flowers, or stems of\\nplants used for flavoring or as a garnish. Spices are sometimes used\\nin medicine, religious rituals, cosmetics, or perfume produc tion.\\nFor example, vanilla is commonly used as an ingredient in\\nfragrance manufacturing.[1]\\nA spice may be available in several forms: fresh, whole-dried, or\\npre-ground dried. Generally, spices are dried. Spices may be\\nground into a powder for conve nience. A whole dried spice has the\\nlonge st shelf life, so it can be purchased and stored in larger\\namounts, making it cheaper on a per-serving basis. A fresh spice,\\nsuch as ginger, is usually more flavorful than its dried form, but\\nfresh spices are more expensive and have a much shorter shelf life.\\nSome spices are not always available either fresh or whole, for\\nexample, turmeric, and often must be purchased in ground form.\\nSmall seeds, such as fennel and mustard seeds, are often used both\\nwhole and in pow der form.\\nAs of 2019, there is not enough clinical evidence to indicate that\\nconsuming spices affects hum an health.[2]\\nIndia contributes to 75% of global spice produc tion. This is\\nreflected culturally through their cuisine; historically, the spice trade\\ndeveloped throughout  the Indian subcontinent as well as in East\\nAsia and the Middle East. Europe\\'s demand for spices was among\\nthe econom ic and cultural factors that encouraged exploration in\\nthe early modern period.\\nThe word spice originated in Middle English[3] which came from\\nthe Old French words espece, espis(c)e, and espis(c)e.[4]\\nAccording to the Middle English Dictionary, the Old French words\\ncame from Anglo-French spece;[4] according to Merriam Webster,Etymology\\nthe Old-French words came from Anglo-French espece, and espis.[3] Both publications agree that the\\nAnglo-French words are derived from Latin species.[3][4] Middle English spice had its first know n use as a\\nnoun i n the 13th century.[3]\\nThe spice trade developed throughout  the Indian subcontinent[5] and Middle East by 2000 BCE with\\ncinnamon and black pepper, and in East Asia with herbs and pepper. The Egyptians used herbs for cuisine\\nand mummification. Their demand for exotic spices and he rbs helped stimulate world trade.\\nCloves were used in Mesopotamia by 1700 BCE.[note 1] The earliest written records of spices come from\\nancient Egyptian, Chinese, and Indian cultures. The Ebers Papyrus from early Egypt dating from 1550\\nBCE describes some eight hundr ed different herbal medicinal remedies and numerous medicinal\\nprocedures.[9]\\nBy 1000 BCE, medical systems based upon herbs could be found in China, Korea, and India. Early uses\\nwere conne cted with magic, medicine, religion, tradition, a nd pr eservation.[10]\\nIndone sian merchants traveled around China, India, the Middle East, and the east coast of Africa. Arab\\nmerchants facilitated the routes through the Middle East and India. This resulted in the Egyptian port city of\\nAlexandria being the main trading center for spices. The most important discovery prior to the European\\nspice trade was the monsoon winds (40 CE). Sailing from Eastern spice cultivators to Western European\\nconsumers gradually replaced the land-locked spice routes once facilitated by the Middle East Arab\\ncaravans.[10]\\nSpices were prominent enough in the ancient world that they are mentioned in the Old Testament. In\\nGenesis, Joseph was sold into slavery by his brothers to spice merchants. In Exodus , manna is described as\\nbeing similar to coriander in appearance. In the Song of Solomon, the male narrator compares his beloved\\nto many saffron, c innamon, a nd ot her spices.\\nThe ancient Indian epic Ramayana mentions cloves.\\nHistorians believe that nutmeg, which originates from the Banda Islands in Southeast Asia, was introduc ed\\nto Europe in the 6th century BCE.[11] The Romans had cloves in the 1st century CE, as Pliny the Elder\\nwrote about them.[12]\\nSpices were among the most demanded and expensive produc ts available in Europe in the Middle Ages,[5]\\nthe most common being black pepper, cinnamon (and the cheaper alternative cassia), cumin, nutmeg,\\nginger, and cloves. Given medieval medicine\\'s main theory of humorism, spices and herbs were\\nindispensable to balance \"humors\" in food,[6] on a daily basis for good health at a time of recurrent\\npandemics. In addition to being desired by those using medieval medicine, the European elite also craved\\nspices in the Middle Ages, believing spices to be from and a conne ction to \"paradise\".[13] An example of\\nthe European aristocracy\\'s demand for spice comes from the King of Aragon, who invested substantial\\nresources into bringing back spices to Spain in the 12th century. He was specifically looking for spices to\\nput in wine and w as not alone among European monarchs at the time to have such a desire for spice.[14]History\\nEarly history\\nMiddle Ages\\n\"The Mullus\" harvesting pepper.\\nIllustration from a French edition of\\nThe Travels of Marco Polo.\\nTurmeric powder, mustard seeds,\\nchili powder, cumin seedsSpices were all imported from plantations in Asia and Africa, which\\nmade them expensive. From the 8th until the 15th century, the\\nRepublic of Venice held a monopol y on spice trade with the Middle\\nEast, using this position to dominate the neighbor ing Italian\\nmaritime republics and city-states. The trade made the region rich. It\\nhas been estimated that around 1,000 tons of pepper and 1,000 tons\\nof other common spices were imported into Western Europe each\\nyear during the Late Middle Ages. The value of these goods  was\\nthe equivalent of a yearly supply of grain for 1.5 million people.[15]\\nThe most exclusive was saffron, used as much for its vivid yellow-\\nred color as for its flavor. Spices that have now fallen into obscurity\\nin European cuisine include grains of paradise, a relative of\\ncardamom which mostly replaced pepper in late medieval north\\nFrench cooking, long pe pper, mace, spikenard, galangal, and cubeb.[16]\\nSpain and Portugal were interested in seeking new routes to trade in spices and other valuable produc ts\\nfrom Asia. The control of trade routes and the spice-produc ing regions were the main reasons that\\nPortugue se navigator Vasco da Gama sailed to India in 1499.[8] When da Gama discovered the pepper\\nmarket in India, he was able to secure peppers for a much cheaper price than the ones demanded by\\nVenice.[14] At around  the same time, Christophe r Columbus returned from the New World. He described to\\ninvestors the new spices available there.\\nAnother source of competition in the spice trade during the 15th and 16th centuries was the Ragusans from\\nthe maritime republic of Dubrovnik in southern Croatia.[17] The military prowess of Afonso de\\nAlbuque rque (1453–1515)  allowed the Portugue se to take control of the sea routes to India. In 1506, he\\ntook the island of Socotra in the mouth of the Red Sea and, in 1507, Ormuz in the Persian Gulf. Since\\nbecoming the viceroy of the Indies, he took Goa in India in 1510, and Malacca on the Malay peninsula in\\n1511. The Portugue se could now  trade directly with Siam, China, and the Maluku I slands.\\nWith the discovery of the New World came new spices, including allspice, chili peppers, vanilla, and\\nchocolate. This development kept the spice trade, with America as a latecomer with its new seasonings,\\nprofitable well into the 19th century.\\nSpices are primarily used as food flavoring or to create variety.[18]\\nThey are also used to perfume cosmetics and incense. At various\\nperiods, many spices were used in herbal medicine. Finally, since\\nthey are expensive, rare, and exotic commodities, their conspicuous\\nconsumption has often been a symbol of wealth and social class.[16]\\nIt is often claimed that spices were used either as food preservatives\\nor to mask the taste of spoiled meat, especially in the European\\nMiddle Ages.[16][19] This is false.[20][21][22][16] In fact, spices are\\nrather ineffective as preservatives as compared to salting, smoking,Early modern period\\nFunction\\nPreservative claim\\nThe most popul ar explanation for\\nthe love of spices in the Middle\\nAges is that they were used to\\npreserve meat from spoiling, or to\\ncover up the taste of meat that\\nhad already gone  off. This\\ncompelling but false idea\\nconstitutes something of an urban\\nlegend, a story so instinctively\\nattractive that mere fact seems\\nunable to wipe it out... Anyone\\nwho could afford spices could\\neasily find meat fresher than what\\ncity dwellers today buy in their\\nlocal supermarket.[16]\\nA plate of Indian herbs and spicespickling, or drying, and are ineffective in covering the taste of\\nspoiled meat.[16] Moreover, spices have always been\\ncomparatively expensive: in 15th century Oxford, a whole pig cost\\nabout the same as a pound of the cheapest spice, pepper.[16] There\\nis also no evidence of such use from contemporary cookbooks :\\n\"Old cookbooks  make it clear that spices weren\\'t used as a\\npreservative. They typically sugge st adding spices toward the end\\nof the cooking process, where they could have no preservative\\neffect whatsoever.\"[23] Indeed, Cristoforo di Messisbugo\\nsugge sted in the 16th century that pepper may speed up\\nspoilage.[23]\\nThough some spices have antimicrobial properties in vitro,[24]\\npepper—by far the most common spice—is relatively ineffective,\\nand in any case, salt, which is far cheaper, is also far more\\neffective.[23]\\nSeeds, such as fennel, mustard, nutmeg, and black\\npepper\\nFruits, such as Cayenne pepper and Chimayo pepper\\nArils, such as mace (part of nutmeg plant fruit)\\nBarks, such as True Cinnamon and cassia\\nFlower buds, such as cloves\\nStigmas, such as saffron\\nRoots and rhizomes, such as turmeric, ginger and\\ngalangal\\nResins, such as asafoetida\\nAdvieh (Iran)\\nBaharat (Arab world, and the Middle East in general)\\nBerbere (Ethiopia, Eritrea and Somalia)\\nBumbu (Indonesia)\\nCajun (United States)\\nChaat masala (Indian subcontinent)\\nChili powder and crushed red pepper (Cayenne, Chipotle, Jalapeño, New Mexico, Tabasco,\\nand other cultivars)\\nCurry powder\\nFive-spice powder (China)Classification and types\\nCulinary herbs and spices\\nBotanical basis\\nCommon spice mixtures\\nA shelf of common spices for a\\nhome kitchen in Canada or the\\nUnited States\\nPepper millGaram masala (Indian subcontinent)\\nHarissa (North Africa)\\nHawaij (Yemen)\\nJerk spice (Jamaica)\\nKhmeli suneli (Georgia, former U.S.S.R.)\\nMasala (a generic name for any mix used in the Indian subcontinent)\\nMixed spice (United Kingdom)\\nPanch phoron (Indian subcontinent)\\nPumpkin pie spice (United States)\\nQuatre épices (France)\\nRas el hanout (North Africa)\\nSharena sol (literally \"colorful salt\", Bulgaria)\\nShichimi tōgarashi (Japan)\\nSpeculaas (Belgium and Netherlands)\\nThuna Paha (Sri Lanka)\\nVegeta (Croatia)\\nZa\\'atar (Middle East)\\nFor ground spices, to grind a whole spice, the\\nclassic tool is mortar and pestle. Less labor-\\nintensive tools are more common now: a\\nmicroplane or fine grater can be used to grind\\nsmall amounts; a coffee grinder[note 2] is\\nuseful for larger amounts. A frequently used\\nspice such as black pepper may merit storage\\nin its own hand gr inder or mill.\\nThe flavor of a spice is derived in part from\\ncompounds  (volatile oils) that oxidize or\\nevaporate when exposed to air. Grinding a\\nspice greatly increases its surface area and so increases the rates of\\noxidation and evaporation. Thus, the flavor is maximized by storing a spice whole and grinding when\\nneeded. The shelf life of a whole dry spice is roughl y two years; of a ground spice roughl y six months.[25]\\nThe \"flavor life\" of a ground spice can be much shorter.[note 3] Ground spices are better stored away from\\nlight.[note 4]\\nSome flavor elements in spices are soluble in water; many are soluble in oil or fat. As a general rule, the\\nflavors from a spice take time to infuse into the food so spices are added early in preparation. This contrasts\\nto herbs which are usually added late in preparation.[25]Handling\\nSalmonella contamination\\nSpices and herbs at a shop in Goa,\\nIndiaTop Spice Producing Countries\\n(in metric tonnes)\\nRank Country 2010 2011\\n1 India 1,474,9001,525,000\\n2 Bangladesh128,517 139,775\\n3 Turkey 107,000 113,783\\n4 China 90,000 95,890\\n5 Pakistan 53,647 53,620\\n6 Iran 18,028 21,307\\n7 Nepal 20,360 20,905\\n8 Colombia 16,998 19,378\\n9 Ethiopia 27,122 17,905\\n10 Sri Lanka 8,293 8,438\\n— World 1,995,5232,063,472\\nSource: UN Food & Agriculture Organization[30]A study by the Food and Drug Administration of shipments of spices to the United States during fiscal\\nyears 2007 –2009 showed about 7% of the shipments were contaminated by Salmonella bacteria, some of it\\nantibiotic-resistant.[26] As most spices are cooke d before being served salmonella contamination often has\\nno effect, but some spices, particularly pepper, are often eaten raw and present at table for conve nient use.\\nShipments from Mexico and India, a major produc er, were the most frequently contaminated.[27] Food\\nirradiation is said to minimise this risk.[28][29]\\nProduction\\nStandardization\\n'"
            ],
            "application/vnd.google.colaboratory.intrinsic+json": {
              "type": "string"
            }
          },
          "metadata": {},
          "execution_count": 50
        }
      ]
    },
    {
      "cell_type": "code",
      "source": [
        "# Intializing the connection to database\n",
        "\n",
        "cassio.init(token=ASTRA_DB_APPLICATION_TOKEN, database_id = ASTRA_DB_ID)"
      ],
      "metadata": {
        "colab": {
          "base_uri": "https://localhost:8080/"
        },
        "id": "TIdH-PHY9Rmh",
        "outputId": "fba3c44c-1b14-44c9-8aa9-570e9090acec"
      },
      "execution_count": 51,
      "outputs": [
        {
          "output_type": "stream",
          "name": "stderr",
          "text": [
            "WARNING:cassandra.cluster:Downgrading core protocol version from 66 to 65 for 8795dbbf-3a5b-47fd-869e-67b6adafd259-us-east1.db.astra.datastax.com:29042:bcad06fc-5971-46aa-be36-c8f73c3f8329. To avoid this, it is best practice to explicitly set Cluster(protocol_version) to the version supported by your cluster. http://datastax.github.io/python-driver/api/cassandra/cluster.html#cassandra.cluster.Cluster.protocol_version\n",
            "WARNING:cassandra.cluster:Downgrading core protocol version from 65 to 5 for 8795dbbf-3a5b-47fd-869e-67b6adafd259-us-east1.db.astra.datastax.com:29042:bcad06fc-5971-46aa-be36-c8f73c3f8329. To avoid this, it is best practice to explicitly set Cluster(protocol_version) to the version supported by your cluster. http://datastax.github.io/python-driver/api/cassandra/cluster.html#cassandra.cluster.Cluster.protocol_version\n",
            "ERROR:cassandra.connection:Closing connection <AsyncoreConnection(137715314746528) 8795dbbf-3a5b-47fd-869e-67b6adafd259-us-east1.db.astra.datastax.com:29042:bcad06fc-5971-46aa-be36-c8f73c3f8329> due to protocol error: Error from server: code=000a [Protocol error] message=\"Beta version of the protocol used (5/v5-beta), but USE_BETA flag is unset\"\n",
            "WARNING:cassandra.cluster:Downgrading core protocol version from 5 to 4 for 8795dbbf-3a5b-47fd-869e-67b6adafd259-us-east1.db.astra.datastax.com:29042:bcad06fc-5971-46aa-be36-c8f73c3f8329. To avoid this, it is best practice to explicitly set Cluster(protocol_version) to the version supported by your cluster. http://datastax.github.io/python-driver/api/cassandra/cluster.html#cassandra.cluster.Cluster.protocol_version\n"
          ]
        }
      ]
    },
    {
      "cell_type": "code",
      "source": [
        "# Creating Langchain embedding and LLM objects for later usage:\n",
        "\n",
        "llm = OpenAI(openai_api_key= OPENAI_API_KEY)\n",
        "embedding = OpenAIEmbeddings(openai_api_key= OPENAI_API_KEY)"
      ],
      "metadata": {
        "id": "2PYUcpL49rUL"
      },
      "execution_count": 37,
      "outputs": []
    },
    {
      "cell_type": "code",
      "source": [
        "# Creating  Langchain vector store ... backend by Astra DB\n",
        "\n",
        "astra_vector_store = Cassandra(\n",
        "    embedding=embedding,\n",
        "    table_name=\"qa_mini_demo\",\n",
        "    session=None,\n",
        "    keyspace=None\n",
        ")"
      ],
      "metadata": {
        "id": "UBAJB4Cn-MmL"
      },
      "execution_count": 39,
      "outputs": []
    },
    {
      "cell_type": "code",
      "source": [
        "from langchain.text_splitter import CharacterTextSplitter\n",
        "\n",
        "# splitting the text using textspilitter such that it should increase the token size\n",
        "\n",
        "text_splitter = CharacterTextSplitter(\n",
        "    separator = \"\\n\",\n",
        "    chunk_size = 800,\n",
        "    chunk_overlap =200,\n",
        "    length_function = len,\n",
        ")\n",
        "texts = text_splitter.split_text(raw_text)"
      ],
      "metadata": {
        "id": "J9x4pzZ4_Evb"
      },
      "execution_count": 42,
      "outputs": []
    },
    {
      "cell_type": "code",
      "source": [
        "texts[:50]"
      ],
      "metadata": {
        "colab": {
          "base_uri": "https://localhost:8080/"
        },
        "id": "l7cSfOZNAAEt",
        "outputId": "e038950c-e466-42bf-980d-ebea1c8357a7"
      },
      "execution_count": 43,
      "outputs": [
        {
          "output_type": "execute_result",
          "data": {
            "text/plain": [
              "['Spices\\nSpices at a central market in Agadir,\\nMorocco\\nA group of Indian herbs and spices in\\nbowls\\nSpices of Saúde flea market, São\\nPaulo, BrazilSpice\\nA spice is a seed, fruit, root, bark, or other plant substance\\nprimarily used for flavoring or coloring food. Spices are\\ndistinguished from herbs, which are the leaves, flowers, or stems of\\nplants used for flavoring or as a garnish. Spices are sometimes used\\nin medicine, religious rituals, cosmetics, or perfume produc tion.\\nFor example, vanilla is commonly used as an ingredient in\\nfragrance manufacturing.[1]\\nA spice may be available in several forms: fresh, whole-dried, or\\npre-ground dried. Generally, spices are dried. Spices may be\\nground into a powder for conve nience. A whole dried spice has the',\n",
              " 'A spice may be available in several forms: fresh, whole-dried, or\\npre-ground dried. Generally, spices are dried. Spices may be\\nground into a powder for conve nience. A whole dried spice has the\\nlonge st shelf life, so it can be purchased and stored in larger\\namounts, making it cheaper on a per-serving basis. A fresh spice,\\nsuch as ginger, is usually more flavorful than its dried form, but\\nfresh spices are more expensive and have a much shorter shelf life.\\nSome spices are not always available either fresh or whole, for\\nexample, turmeric, and often must be purchased in ground form.\\nSmall seeds, such as fennel and mustard seeds, are often used both\\nwhole and in pow der form.\\nAs of 2019, there is not enough clinical evidence to indicate that\\nconsuming spices affects hum an health.[2]',\n",
              " \"whole and in pow der form.\\nAs of 2019, there is not enough clinical evidence to indicate that\\nconsuming spices affects hum an health.[2]\\nIndia contributes to 75% of global spice produc tion. This is\\nreflected culturally through their cuisine; historically, the spice trade\\ndeveloped throughout  the Indian subcontinent as well as in East\\nAsia and the Middle East. Europe's demand for spices was among\\nthe econom ic and cultural factors that encouraged exploration in\\nthe early modern period.\\nThe word spice originated in Middle English[3] which came from\\nthe Old French words espece, espis(c)e, and espis(c)e.[4]\\nAccording to the Middle English Dictionary, the Old French words\\ncame from Anglo-French spece;[4] according to Merriam Webster,Etymology\",\n",
              " 'the Old French words espece, espis(c)e, and espis(c)e.[4]\\nAccording to the Middle English Dictionary, the Old French words\\ncame from Anglo-French spece;[4] according to Merriam Webster,Etymology\\nthe Old-French words came from Anglo-French espece, and espis.[3] Both publications agree that the\\nAnglo-French words are derived from Latin species.[3][4] Middle English spice had its first know n use as a\\nnoun i n the 13th century.[3]\\nThe spice trade developed throughout  the Indian subcontinent[5] and Middle East by 2000 BCE with\\ncinnamon and black pepper, and in East Asia with herbs and pepper. The Egyptians used herbs for cuisine\\nand mummification. Their demand for exotic spices and he rbs helped stimulate world trade.',\n",
              " 'cinnamon and black pepper, and in East Asia with herbs and pepper. The Egyptians used herbs for cuisine\\nand mummification. Their demand for exotic spices and he rbs helped stimulate world trade.\\nCloves were used in Mesopotamia by 1700 BCE.[note 1] The earliest written records of spices come from\\nancient Egyptian, Chinese, and Indian cultures. The Ebers Papyrus from early Egypt dating from 1550\\nBCE describes some eight hundr ed different herbal medicinal remedies and numerous medicinal\\nprocedures.[9]\\nBy 1000 BCE, medical systems based upon herbs could be found in China, Korea, and India. Early uses\\nwere conne cted with magic, medicine, religion, tradition, a nd pr eservation.[10]\\nIndone sian merchants traveled around China, India, the Middle East, and the east coast of Africa. Arab',\n",
              " 'were conne cted with magic, medicine, religion, tradition, a nd pr eservation.[10]\\nIndone sian merchants traveled around China, India, the Middle East, and the east coast of Africa. Arab\\nmerchants facilitated the routes through the Middle East and India. This resulted in the Egyptian port city of\\nAlexandria being the main trading center for spices. The most important discovery prior to the European\\nspice trade was the monsoon winds (40 CE). Sailing from Eastern spice cultivators to Western European\\nconsumers gradually replaced the land-locked spice routes once facilitated by the Middle East Arab\\ncaravans.[10]\\nSpices were prominent enough in the ancient world that they are mentioned in the Old Testament. In',\n",
              " 'caravans.[10]\\nSpices were prominent enough in the ancient world that they are mentioned in the Old Testament. In\\nGenesis, Joseph was sold into slavery by his brothers to spice merchants. In Exodus , manna is described as\\nbeing similar to coriander in appearance. In the Song of Solomon, the male narrator compares his beloved\\nto many saffron, c innamon, a nd ot her spices.\\nThe ancient Indian epic Ramayana mentions cloves.\\nHistorians believe that nutmeg, which originates from the Banda Islands in Southeast Asia, was introduc ed\\nto Europe in the 6th century BCE.[11] The Romans had cloves in the 1st century CE, as Pliny the Elder\\nwrote about them.[12]\\nSpices were among the most demanded and expensive produc ts available in Europe in the Middle Ages,[5]',\n",
              " 'wrote about them.[12]\\nSpices were among the most demanded and expensive produc ts available in Europe in the Middle Ages,[5]\\nthe most common being black pepper, cinnamon (and the cheaper alternative cassia), cumin, nutmeg,\\nginger, and cloves. Given medieval medicine\\'s main theory of humorism, spices and herbs were\\nindispensable to balance \"humors\" in food,[6] on a daily basis for good health at a time of recurrent\\npandemics. In addition to being desired by those using medieval medicine, the European elite also craved\\nspices in the Middle Ages, believing spices to be from and a conne ction to \"paradise\".[13] An example of\\nthe European aristocracy\\'s demand for spice comes from the King of Aragon, who invested substantial',\n",
              " 'the European aristocracy\\'s demand for spice comes from the King of Aragon, who invested substantial\\nresources into bringing back spices to Spain in the 12th century. He was specifically looking for spices to\\nput in wine and w as not alone among European monarchs at the time to have such a desire for spice.[14]History\\nEarly history\\nMiddle Ages\\n\"The Mullus\" harvesting pepper.\\nIllustration from a French edition of\\nThe Travels of Marco Polo.\\nTurmeric powder, mustard seeds,\\nchili powder, cumin seedsSpices were all imported from plantations in Asia and Africa, which\\nmade them expensive. From the 8th until the 15th century, the\\nRepublic of Venice held a monopol y on spice trade with the Middle\\nEast, using this position to dominate the neighbor ing Italian',\n",
              " 'made them expensive. From the 8th until the 15th century, the\\nRepublic of Venice held a monopol y on spice trade with the Middle\\nEast, using this position to dominate the neighbor ing Italian\\nmaritime republics and city-states. The trade made the region rich. It\\nhas been estimated that around 1,000 tons of pepper and 1,000 tons\\nof other common spices were imported into Western Europe each\\nyear during the Late Middle Ages. The value of these goods  was\\nthe equivalent of a yearly supply of grain for 1.5 million people.[15]\\nThe most exclusive was saffron, used as much for its vivid yellow-\\nred color as for its flavor. Spices that have now fallen into obscurity\\nin European cuisine include grains of paradise, a relative of\\ncardamom which mostly replaced pepper in late medieval north',\n",
              " 'red color as for its flavor. Spices that have now fallen into obscurity\\nin European cuisine include grains of paradise, a relative of\\ncardamom which mostly replaced pepper in late medieval north\\nFrench cooking, long pe pper, mace, spikenard, galangal, and cubeb.[16]\\nSpain and Portugal were interested in seeking new routes to trade in spices and other valuable produc ts\\nfrom Asia. The control of trade routes and the spice-produc ing regions were the main reasons that\\nPortugue se navigator Vasco da Gama sailed to India in 1499.[8] When da Gama discovered the pepper\\nmarket in India, he was able to secure peppers for a much cheaper price than the ones demanded by\\nVenice.[14] At around  the same time, Christophe r Columbus returned from the New World. He described to',\n",
              " 'Venice.[14] At around  the same time, Christophe r Columbus returned from the New World. He described to\\ninvestors the new spices available there.\\nAnother source of competition in the spice trade during the 15th and 16th centuries was the Ragusans from\\nthe maritime republic of Dubrovnik in southern Croatia.[17] The military prowess of Afonso de\\nAlbuque rque (1453–1515)  allowed the Portugue se to take control of the sea routes to India. In 1506, he\\ntook the island of Socotra in the mouth of the Red Sea and, in 1507, Ormuz in the Persian Gulf. Since\\nbecoming the viceroy of the Indies, he took Goa in India in 1510, and Malacca on the Malay peninsula in\\n1511. The Portugue se could now  trade directly with Siam, China, and the Maluku I slands.',\n",
              " 'becoming the viceroy of the Indies, he took Goa in India in 1510, and Malacca on the Malay peninsula in\\n1511. The Portugue se could now  trade directly with Siam, China, and the Maluku I slands.\\nWith the discovery of the New World came new spices, including allspice, chili peppers, vanilla, and\\nchocolate. This development kept the spice trade, with America as a latecomer with its new seasonings,\\nprofitable well into the 19th century.\\nSpices are primarily used as food flavoring or to create variety.[18]\\nThey are also used to perfume cosmetics and incense. At various\\nperiods, many spices were used in herbal medicine. Finally, since\\nthey are expensive, rare, and exotic commodities, their conspicuous\\nconsumption has often been a symbol of wealth and social class.[16]',\n",
              " 'they are expensive, rare, and exotic commodities, their conspicuous\\nconsumption has often been a symbol of wealth and social class.[16]\\nIt is often claimed that spices were used either as food preservatives\\nor to mask the taste of spoiled meat, especially in the European\\nMiddle Ages.[16][19] This is false.[20][21][22][16] In fact, spices are\\nrather ineffective as preservatives as compared to salting, smoking,Early modern period\\nFunction\\nPreservative claim\\nThe most popul ar explanation for\\nthe love of spices in the Middle\\nAges is that they were used to\\npreserve meat from spoiling, or to\\ncover up the taste of meat that\\nhad already gone  off. This\\ncompelling but false idea\\nconstitutes something of an urban\\nlegend, a story so instinctively\\nattractive that mere fact seems',\n",
              " 'cover up the taste of meat that\\nhad already gone  off. This\\ncompelling but false idea\\nconstitutes something of an urban\\nlegend, a story so instinctively\\nattractive that mere fact seems\\nunable to wipe it out... Anyone\\nwho could afford spices could\\neasily find meat fresher than what\\ncity dwellers today buy in their\\nlocal supermarket.[16]\\nA plate of Indian herbs and spicespickling, or drying, and are ineffective in covering the taste of\\nspoiled meat.[16] Moreover, spices have always been\\ncomparatively expensive: in 15th century Oxford, a whole pig cost\\nabout the same as a pound of the cheapest spice, pepper.[16] There\\nis also no evidence of such use from contemporary cookbooks :\\n\"Old cookbooks  make it clear that spices weren\\'t used as a',\n",
              " 'about the same as a pound of the cheapest spice, pepper.[16] There\\nis also no evidence of such use from contemporary cookbooks :\\n\"Old cookbooks  make it clear that spices weren\\'t used as a\\npreservative. They typically sugge st adding spices toward the end\\nof the cooking process, where they could have no preservative\\neffect whatsoever.\"[23] Indeed, Cristoforo di Messisbugo\\nsugge sted in the 16th century that pepper may speed up\\nspoilage.[23]\\nThough some spices have antimicrobial properties in vitro,[24]\\npepper—by far the most common spice—is relatively ineffective,\\nand in any case, salt, which is far cheaper, is also far more\\neffective.[23]\\nSeeds, such as fennel, mustard, nutmeg, and black\\npepper\\nFruits, such as Cayenne pepper and Chimayo pepper',\n",
              " 'and in any case, salt, which is far cheaper, is also far more\\neffective.[23]\\nSeeds, such as fennel, mustard, nutmeg, and black\\npepper\\nFruits, such as Cayenne pepper and Chimayo pepper\\nArils, such as mace (part of nutmeg plant fruit)\\nBarks, such as True Cinnamon and cassia\\nFlower buds, such as cloves\\nStigmas, such as saffron\\nRoots and rhizomes, such as turmeric, ginger and\\ngalangal\\nResins, such as asafoetida\\nAdvieh (Iran)\\nBaharat (Arab world, and the Middle East in general)\\nBerbere (Ethiopia, Eritrea and Somalia)\\nBumbu (Indonesia)\\nCajun (United States)\\nChaat masala (Indian subcontinent)\\nChili powder and crushed red pepper (Cayenne, Chipotle, Jalapeño, New Mexico, Tabasco,\\nand other cultivars)\\nCurry powder\\nFive-spice powder (China)Classification and types\\nCulinary herbs and spices',\n",
              " 'Chili powder and crushed red pepper (Cayenne, Chipotle, Jalapeño, New Mexico, Tabasco,\\nand other cultivars)\\nCurry powder\\nFive-spice powder (China)Classification and types\\nCulinary herbs and spices\\nBotanical basis\\nCommon spice mixtures\\nA shelf of common spices for a\\nhome kitchen in Canada or the\\nUnited States\\nPepper millGaram masala (Indian subcontinent)\\nHarissa (North Africa)\\nHawaij (Yemen)\\nJerk spice (Jamaica)\\nKhmeli suneli (Georgia, former U.S.S.R.)\\nMasala (a generic name for any mix used in the Indian subcontinent)\\nMixed spice (United Kingdom)\\nPanch phoron (Indian subcontinent)\\nPumpkin pie spice (United States)\\nQuatre épices (France)\\nRas el hanout (North Africa)\\nSharena sol (literally \"colorful salt\", Bulgaria)\\nShichimi tōgarashi (Japan)\\nSpeculaas (Belgium and Netherlands)',\n",
              " 'Pumpkin pie spice (United States)\\nQuatre épices (France)\\nRas el hanout (North Africa)\\nSharena sol (literally \"colorful salt\", Bulgaria)\\nShichimi tōgarashi (Japan)\\nSpeculaas (Belgium and Netherlands)\\nThuna Paha (Sri Lanka)\\nVegeta (Croatia)\\nZa\\'atar (Middle East)\\nFor ground spices, to grind a whole spice, the\\nclassic tool is mortar and pestle. Less labor-\\nintensive tools are more common now: a\\nmicroplane or fine grater can be used to grind\\nsmall amounts; a coffee grinder[note 2] is\\nuseful for larger amounts. A frequently used\\nspice such as black pepper may merit storage\\nin its own hand gr inder or mill.\\nThe flavor of a spice is derived in part from\\ncompounds  (volatile oils) that oxidize or\\nevaporate when exposed to air. Grinding a',\n",
              " 'in its own hand gr inder or mill.\\nThe flavor of a spice is derived in part from\\ncompounds  (volatile oils) that oxidize or\\nevaporate when exposed to air. Grinding a\\nspice greatly increases its surface area and so increases the rates of\\noxidation and evaporation. Thus, the flavor is maximized by storing a spice whole and grinding when\\nneeded. The shelf life of a whole dry spice is roughl y two years; of a ground spice roughl y six months.[25]\\nThe \"flavor life\" of a ground spice can be much shorter.[note 3] Ground spices are better stored away from\\nlight.[note 4]\\nSome flavor elements in spices are soluble in water; many are soluble in oil or fat. As a general rule, the\\nflavors from a spice take time to infuse into the food so spices are added early in preparation. This contrasts',\n",
              " 'flavors from a spice take time to infuse into the food so spices are added early in preparation. This contrasts\\nto herbs which are usually added late in preparation.[25]Handling\\nSalmonella contamination\\nSpices and herbs at a shop in Goa,\\nIndiaTop Spice Producing Countries\\n(in metric tonnes)\\nRank Country 2010 2011\\n1 India 1,474,9001,525,000\\n2 Bangladesh128,517 139,775\\n3 Turkey 107,000 113,783\\n4 China 90,000 95,890\\n5 Pakistan 53,647 53,620\\n6 Iran 18,028 21,307\\n7 Nepal 20,360 20,905\\n8 Colombia 16,998 19,378\\n9 Ethiopia 27,122 17,905\\n10 Sri Lanka 8,293 8,438\\n— World 1,995,5232,063,472\\nSource: UN Food & Agriculture Organization[30]A study by the Food and Drug Administration of shipments of spices to the United States during fiscal',\n",
              " '10 Sri Lanka 8,293 8,438\\n— World 1,995,5232,063,472\\nSource: UN Food & Agriculture Organization[30]A study by the Food and Drug Administration of shipments of spices to the United States during fiscal\\nyears 2007 –2009 showed about 7% of the shipments were contaminated by Salmonella bacteria, some of it\\nantibiotic-resistant.[26] As most spices are cooke d before being served salmonella contamination often has\\nno effect, but some spices, particularly pepper, are often eaten raw and present at table for conve nient use.\\nShipments from Mexico and India, a major produc er, were the most frequently contaminated.[27] Food\\nirradiation is said to minimise this risk.[28][29]\\nProduction\\nStandardization']"
            ]
          },
          "metadata": {},
          "execution_count": 43
        }
      ]
    },
    {
      "cell_type": "code",
      "source": [
        "# loading the top 50 words to the vector store\n",
        "\n",
        "astra_vector_store.add_texts(texts[:50])\n",
        "\n",
        "print(\"Inserted %i headlines.\" % len(texts[:50]))\n",
        "\n",
        "astra_vector_index = VectorStoreIndexWrapper(vectorstore=astra_vector_store)"
      ],
      "metadata": {
        "colab": {
          "base_uri": "https://localhost:8080/"
        },
        "id": "Jdvtti4NADN9",
        "outputId": "ca74717f-d9ae-4148-faa9-d6a69da6c843"
      },
      "execution_count": 44,
      "outputs": [
        {
          "output_type": "stream",
          "name": "stdout",
          "text": [
            "Inserted 22 headlines.\n"
          ]
        }
      ]
    },
    {
      "cell_type": "code",
      "source": [
        "first_question = True\n",
        "while True:\n",
        "  if first_question:\n",
        "    query_text = input(\"\\nEnter your question (or type 'quit' to exit): \").strip()\n",
        "  else:\n",
        "    query_text = input(\"\\nWhat's your next your question (or type 'quit' to exit): \").strip()\n",
        "\n",
        "  if query_text.lower() == \"quit\":\n",
        "    break\n",
        "\n",
        "  if query_text == \"\":\n",
        "    continue\n",
        "\n",
        "  first_question = False\n",
        "\n",
        "  print(\"\\nQUESTION: \\\"%s\\\"\" % query_text)\n",
        "  answer = astra_vector_index.query(query_text, llm=llm).strip()\n",
        "  print(\"ANSWER: \\%s\\\"\\n\" % answer)\n",
        "\n",
        "\n",
        "  print(\"FIRST DOCUMENTS BY RELEVANCE:\")\n",
        "  for doc, score in astra_vector_store.similarity_search_with_score(query_text, k=4):\n",
        "    print(\"    [%0.4f] \\\"%s ...\\\"\" % (score, doc.page_content[:84]))"
      ],
      "metadata": {
        "colab": {
          "base_uri": "https://localhost:8080/"
        },
        "id": "252mLciGA6hu",
        "outputId": "3e472c3a-13d5-4b6c-a718-77765d5ca2f4"
      },
      "execution_count": 45,
      "outputs": [
        {
          "output_type": "stream",
          "name": "stdout",
          "text": [
            "\n",
            "Enter your question (or type 'quit' to exit): what is mortar?\n",
            "\n",
            "QUESTION: \"what is mortar?\"\n"
          ]
        },
        {
          "output_type": "stream",
          "name": "stderr",
          "text": [
            "WARNING:cassandra.protocol:Server warning: Top-K queries can only be run with consistency level ONE / LOCAL_ONE / NODE_LOCAL. Consistency level LOCAL_QUORUM was requested. Downgrading the consistency level to LOCAL_ONE.\n"
          ]
        },
        {
          "output_type": "stream",
          "name": "stdout",
          "text": [
            "ANSWER: \\Mortar is a tool used for grinding spices and other ingredients, consisting of a bowl and a pestle.\"\n",
            "\n",
            "FIRST DOCUMENTS BY RELEVANCE:\n"
          ]
        },
        {
          "output_type": "stream",
          "name": "stderr",
          "text": [
            "WARNING:cassandra.protocol:Server warning: Top-K queries can only be run with consistency level ONE / LOCAL_ONE / NODE_LOCAL. Consistency level LOCAL_QUORUM was requested. Downgrading the consistency level to LOCAL_ONE.\n"
          ]
        },
        {
          "name": "stdout",
          "output_type": "stream",
          "text": [
            "    [0.8725] \"Pumpkin pie spice (United States)\n",
            "Quatre épices (France)\n",
            "Ras el hanout (North Africa ...\"\n",
            "    [0.8725] \"Pumpkin pie spice (United States)\n",
            "Quatre épices (France)\n",
            "Ras el hanout (North Africa ...\"\n",
            "    [0.8633] \"in its own hand gr inder or mill.\n",
            "The flavor of a spice is derived in part from\n",
            "comp ...\"\n",
            "    [0.8633] \"in its own hand gr inder or mill.\n",
            "The flavor of a spice is derived in part from\n",
            "comp ...\"\n",
            "\n",
            "What's your next your question (or type 'quit' to exit): quit\n"
          ]
        }
      ]
    },
    {
      "cell_type": "code",
      "source": [],
      "metadata": {
        "id": "r6PTRSqq-tVO"
      },
      "execution_count": null,
      "outputs": []
    }
  ]
}